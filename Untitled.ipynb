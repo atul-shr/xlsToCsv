{
 "cells": [
  {
   "cell_type": "code",
   "execution_count": 2,
   "metadata": {},
   "outputs": [
    {
     "name": "stdout",
     "output_type": "stream",
     "text": [
      "Csv file  D:\\learning\\code\\utils\\VSS\\outbound\\csv_ObjectsList_column_job_id.csv created.\n"
     ]
    }
   ],
   "source": [
    "from xlsToCsv import xlsToCsv\n",
    "\n",
    "xlsToCsv.getcsv(r'D:\\learning\\code\\utils\\VSS\\outbound\\Excel_ObjectsList_column_job_id.xlsx', \\\n",
    "                r'D:\\learning\\code\\utils\\VSS\\outbound\\csv_ObjectsList_column_job_id.csv')\n"
   ]
  },
  {
   "cell_type": "code",
   "execution_count": 3,
   "metadata": {},
   "outputs": [
    {
     "name": "stdout",
     "output_type": "stream",
     "text": [
      "Csv file  D:\\learning\\code\\utils\\VSS\\outbound\\csv_ObjectsList_column_job_id_0.csv created.\n"
     ]
    }
   ],
   "source": [
    "xlsToCsv.getcsv(r'D:\\learning\\code\\utils\\VSS\\outbound\\Excel_ObjectsList_column_job_id.xlsx', \\\n",
    "                r'D:\\learning\\code\\utils\\VSS\\outbound\\csv_ObjectsList_column_job_id.csv',0)"
   ]
  },
  {
   "cell_type": "code",
   "execution_count": 4,
   "metadata": {},
   "outputs": [
    {
     "name": "stdout",
     "output_type": "stream",
     "text": [
      "Csv file  D:\\learning\\code\\utils\\VSS\\outbound\\csv_ObjectsList_column_job_id_0.csv created.\n",
      "Csv file  D:\\learning\\code\\utils\\VSS\\outbound\\csv_ObjectsList_column_job_id_1.csv created.\n"
     ]
    }
   ],
   "source": [
    "xlsToCsv.getcsv(r'D:\\learning\\code\\utils\\VSS\\outbound\\Excel_ObjectsList_column_job_id.xlsx', \\\n",
    "                r'D:\\learning\\code\\utils\\VSS\\outbound\\csv_ObjectsList_column_job_id.csv', '0,1')"
   ]
  },
  {
   "cell_type": "code",
   "execution_count": 5,
   "metadata": {},
   "outputs": [
    {
     "name": "stdout",
     "output_type": "stream",
     "text": [
      "Csv file  D:\\learning\\code\\utils\\VSS\\outbound\\csv_ObjectsList_column_job_id_0.csv created.\n",
      "Csv file  D:\\learning\\code\\utils\\VSS\\outbound\\Source_Existance.csv created.\n"
     ]
    }
   ],
   "source": [
    "xlsToCsv.getcsv(r'D:\\learning\\code\\utils\\VSS\\outbound\\Excel_ObjectsList_column_job_id.xlsx', \\\n",
    "                r'D:\\learning\\code\\utils\\VSS\\outbound\\csv_ObjectsList_column_job_id.csv','0,Source_Existance')"
   ]
  },
  {
   "cell_type": "markdown",
   "metadata": {},
   "source": []
  }
 ],
 "metadata": {
  "kernelspec": {
   "display_name": "Python 3",
   "language": "python",
   "name": "python3"
  },
  "language_info": {
   "codemirror_mode": {
    "name": "ipython",
    "version": 3
   },
   "file_extension": ".py",
   "mimetype": "text/x-python",
   "name": "python",
   "nbconvert_exporter": "python",
   "pygments_lexer": "ipython3",
   "version": "3.8.0"
  }
 },
 "nbformat": 4,
 "nbformat_minor": 4
}
